{
 "cells": [
  {
   "cell_type": "code",
   "execution_count": 1,
   "metadata": {
    "collapsed": true,
    "nbpresent": {
     "id": "1ada4770-1f6a-4573-9fe5-b7155c2ac6a6"
    }
   },
   "outputs": [],
   "source": [
    "# A simple bloom filter implementation for validating its viability\n",
    "# for object detection (potentially for privacy-preserving AR).\n",
    "\n",
    "# Date 13-Nov-2017\n",
    "\n",
    "from pybloomfilter import BloomFilter\n",
    "import numpy as np\n",
    "import cv2"
   ]
  },
  {
   "cell_type": "code",
   "execution_count": 2,
   "metadata": {
    "nbpresent": {
     "id": "fb385ea2-2333-4260-8acc-d2e003ad3ebb"
    }
   },
   "outputs": [],
   "source": [
    "detector = cv2.xfeatures2d.SIFT_create()\n",
    "\n",
    "bf = BloomFilter(10000000,0.01,None)\n",
    "\n",
    "train_img = cv2.imread('train.jpg',0)\n",
    "query_img = cv2.imread('raw.png',0)"
   ]
  },
  {
   "cell_type": "code",
   "execution_count": 3,
   "metadata": {
    "collapsed": true,
    "nbpresent": {
     "id": "7dcb00b3-bd53-4c3a-ab3c-8e5f988c4d6c"
    }
   },
   "outputs": [],
   "source": [
    "kp1, des1 = detector.detectAndCompute(train_img, None)\n",
    "kp2, des2 = detector.detectAndCompute(query_img, None)"
   ]
  },
  {
   "cell_type": "code",
   "execution_count": 4,
   "metadata": {
    "collapsed": true
   },
   "outputs": [],
   "source": [
    "for m in des2:\n",
    "    # needs to insert here a method for re-hashing or\n",
    "    # transforming the array list of descriptors to a bit array\n",
    "    m = m.tostring(None) # using this one results to a trivial outcome,\n",
    "    # as direct implementation of bloom filters requires an exactness,\n",
    "    # as we have earlier suspected. Thus, some form of generalization\n",
    "    # to get rid of 'exactness' has to be implemented, before we add it\n",
    "    # to the bloom filter. In the Duke paper, they implemented LSH as a\n",
    "    # form of generalization.\n",
    "    bf.add(m)"
   ]
  },
  {
   "cell_type": "code",
   "execution_count": 11,
   "metadata": {
    "nbpresent": {
     "id": "329f0997-26cd-43d9-861d-f4e6fcbc135c"
    },
    "scrolled": true
   },
   "outputs": [
    {
     "data": {
      "text/plain": [
       "1475"
      ]
     },
     "execution_count": 11,
     "metadata": {},
     "output_type": "execute_result"
    }
   ],
   "source": [
    "count = 0\n",
    "len(bf)"
   ]
  },
  {
   "cell_type": "code",
   "execution_count": 12,
   "metadata": {
    "collapsed": true,
    "nbpresent": {
     "id": "66e6b73a-a9fb-4865-bf72-4da5479a775a"
    }
   },
   "outputs": [],
   "source": [
    "for n in des1:\n",
    "    n = n.tostring(None)\n",
    "    if (n in bf):\n",
    "        count = count + 1"
   ]
  },
  {
   "cell_type": "code",
   "execution_count": 13,
   "metadata": {
    "nbpresent": {
     "id": "d09e3ee4-fe7a-4c12-b5a1-9ce7885161f3"
    }
   },
   "outputs": [
    {
     "data": {
      "text/plain": [
       "0"
      ]
     },
     "execution_count": 13,
     "metadata": {},
     "output_type": "execute_result"
    }
   ],
   "source": [
    "count"
   ]
  },
  {
   "cell_type": "code",
   "execution_count": 8,
   "metadata": {
    "nbpresent": {
     "id": "b7c27f0c-9892-4c87-8bd2-419bcf7adc39"
    }
   },
   "outputs": [
    {
     "data": {
      "text/plain": [
       "1475"
      ]
     },
     "execution_count": 8,
     "metadata": {},
     "output_type": "execute_result"
    }
   ],
   "source": [
    "for n in des2:\n",
    "    n = n.tostring(None)\n",
    "    if (n in bf):\n",
    "        count = count + 1\n",
    "        \n",
    "count"
   ]
  },
  {
   "cell_type": "code",
   "execution_count": null,
   "metadata": {
    "collapsed": true
   },
   "outputs": [],
   "source": []
  }
 ],
 "metadata": {
  "kernelspec": {
   "display_name": "Python [conda env:tutorials]",
   "language": "python",
   "name": "conda-env-tutorials-py"
  },
  "language_info": {
   "codemirror_mode": {
    "name": "ipython",
    "version": 3
   },
   "file_extension": ".py",
   "mimetype": "text/x-python",
   "name": "python",
   "nbconvert_exporter": "python",
   "pygments_lexer": "ipython3",
   "version": "3.6.3"
  }
 },
 "nbformat": 4,
 "nbformat_minor": 2
}
