{
 "cells": [
  {
   "cell_type": "code",
   "execution_count": 1,
   "metadata": {
    "collapsed": true,
    "nbpresent": {
     "id": "1ada4770-1f6a-4573-9fe5-b7155c2ac6a6"
    }
   },
   "outputs": [],
   "source": [
    "# A simple bloom filter implementation for validating its viability\n",
    "# for object detection (potentially for privacy-preserving AR).\n",
    "\n",
    "# Date 21-Nov-2017: This version now follows the strategy used by Jain's\n",
    "# which utlizes multiple LSHs and dedicated Bloom filters for each LSH.\n",
    "# This reduces the false positives.\n",
    "\n",
    "from pybloomfilter import BloomFilter\n",
    "import numpy as np\n",
    "import cv2\n",
    "import time\n",
    "import sys"
   ]
  },
  {
   "cell_type": "code",
   "execution_count": 2,
   "metadata": {
    "collapsed": true,
    "nbpresent": {
     "id": "fb385ea2-2333-4260-8acc-d2e003ad3ebb"
    }
   },
   "outputs": [],
   "source": [
    "detector = cv2.xfeatures2d.SIFT_create()\n",
    "\n",
    "train_img = cv2.imread('train.jpg',0)\n",
    "query_img = cv2.imread('raw.png',0)"
   ]
  },
  {
   "cell_type": "code",
   "execution_count": 3,
   "metadata": {
    "collapsed": true
   },
   "outputs": [],
   "source": [
    "T_kp, T_des = detector.detectAndCompute(train_img, None)"
   ]
  },
  {
   "cell_type": "code",
   "execution_count": 4,
   "metadata": {
    "collapsed": true,
    "nbpresent": {
     "id": "7dcb00b3-bd53-4c3a-ab3c-8e5f988c4d6c"
    }
   },
   "outputs": [],
   "source": [
    "_, dim = T_des.shape\n",
    "LSH_dim = 16\n",
    "np.random.seed(0)\n",
    "LSH_random_vectors = np.random.randn(dim, LSH_dim)\n",
    "powers_of_two = 1 << np.arange(LSH_dim-1, -1, -1)"
   ]
  },
  {
   "cell_type": "code",
   "execution_count": 14,
   "metadata": {
    "collapsed": true
   },
   "outputs": [],
   "source": [
    "bf = BloomFilter(10**(LSH_dim/4),0.01,None)\n",
    "\n",
    "# We maximize the efficiency by utilizing matrix operations\n",
    "# for the crude LSH implementation\n",
    "\n",
    "t0 = time.process_time()\n",
    "\n",
    "Q_kp, Q_des = detector.detectAndCompute(query_img, None)\n",
    "\n",
    "t1 = time.process_time()\n",
    "\n",
    "Q_reflections = Q_des.dot(LSH_random_vectors) >= 0\n",
    "#Q_bin = Q_reflections.dot(powers_of_two)\n",
    "\n",
    "# And we remove duplicates to ensure uniqueness of features\n",
    "for q in np.array(Q_reflections, dtype=int):\n",
    "    # needs to insert here a method for re-hashing or\n",
    "    # transforming the array list of descriptors to a bit array\n",
    "    \n",
    "    # m = m.tostring(None) # using this one results to a trivial outcome,\n",
    "    # as direct implementation of bloom filters requires an exactness,\n",
    "    # as we have earlier suspected. Thus, some form of generalization\n",
    "    # to get rid of 'exactness' has to be implemented, before we add it\n",
    "    # to the bloom filter. In the Duke paper, they implemented LSH as a\n",
    "    # form of generalization.\n",
    "    \n",
    "    # Now, we use a crude LSH that results to a LSH_dim-bit output.\n",
    "    # We hash individual feature vectors of dimension 1 x 128 through a\n",
    "    # 128 x LSH_dim random vector set.\n",
    "    # print(m_reflections, m_bin)\n",
    "    bf.add(q.tostring(None))\n",
    "    \n",
    "t2 = time.process_time()"
   ]
  },
  {
   "cell_type": "code",
   "execution_count": 6,
   "metadata": {
    "nbpresent": {
     "id": "329f0997-26cd-43d9-861d-f4e6fcbc135c"
    },
    "scrolled": true
   },
   "outputs": [
    {
     "name": "stdout",
     "output_type": "stream",
     "text": [
      "<BloomFilter capacity: 10000, error: 0.010, num_hashes: 6>\n"
     ]
    },
    {
     "data": {
      "text/plain": [
       "654"
      ]
     },
     "execution_count": 6,
     "metadata": {},
     "output_type": "execute_result"
    }
   ],
   "source": [
    "print(bf)\n",
    "len(bf)"
   ]
  },
  {
   "cell_type": "code",
   "execution_count": 7,
   "metadata": {
    "collapsed": true,
    "nbpresent": {
     "id": "66e6b73a-a9fb-4865-bf72-4da5479a775a"
    }
   },
   "outputs": [],
   "source": [
    "t3 = time.process_time()\n",
    "T_reflections = T_des.dot(LSH_random_vectors) >= 0\n",
    "#T_bin = T_reflections.dot(powers_of_two)\n",
    "\n",
    "count = 0\n",
    "for n in np.array(T_reflections, dtype=int):\n",
    "    n = n.tostring(None)\n",
    "    if (n in bf):\n",
    "        count = count + 1\n",
    "        \n",
    "t4 = time.process_time()"
   ]
  },
  {
   "cell_type": "code",
   "execution_count": 9,
   "metadata": {
    "nbpresent": {
     "id": "d09e3ee4-fe7a-4c12-b5a1-9ce7885161f3"
    },
    "scrolled": true
   },
   "outputs": [
    {
     "name": "stdout",
     "output_type": "stream",
     "text": [
      "Feature Extraction Time: 0.3096570000000003\n",
      "LSH to Bloom time: 0.005464999999999609\n",
      "Matches: 2032\n",
      "Number of Training features 3190\n",
      "Number of Query features 1475\n",
      "Percent Matches: 63.69905956112853\n",
      "Checking the Bloom time: 0.011232999999999826\n"
     ]
    },
    {
     "ename": "NotImplementedError",
     "evalue": "Cannot access .name on an in-memory BloomFilter",
     "output_type": "error",
     "traceback": [
      "\u001b[0;31m---------------------------------------------------------------------------\u001b[0m",
      "\u001b[0;31mNotImplementedError\u001b[0m                       Traceback (most recent call last)",
      "\u001b[0;32m<ipython-input-9-dec707ea82a1>\u001b[0m in \u001b[0;36m<module>\u001b[0;34m()\u001b[0m\n\u001b[1;32m      7\u001b[0m \u001b[0mprint\u001b[0m\u001b[0;34m(\u001b[0m\u001b[0;34m\"Checking the Bloom time:\"\u001b[0m\u001b[0;34m,\u001b[0m \u001b[0mt4\u001b[0m\u001b[0;34m-\u001b[0m\u001b[0mt3\u001b[0m\u001b[0;34m)\u001b[0m\u001b[0;34m\u001b[0m\u001b[0m\n\u001b[1;32m      8\u001b[0m \u001b[0;31m#print(\"Size of Query Image:\",sys.getsizeof(query_img), \"and size of Bloom:\", sys.getsizeof(bf.to_base64()))\u001b[0m\u001b[0;34m\u001b[0m\u001b[0;34m\u001b[0m\u001b[0m\n\u001b[0;32m----> 9\u001b[0;31m \u001b[0mbf\u001b[0m\u001b[0;34m.\u001b[0m\u001b[0mto_base64\u001b[0m\u001b[0;34m(\u001b[0m\u001b[0;34m)\u001b[0m\u001b[0;34m\u001b[0m\u001b[0m\n\u001b[0m",
      "\u001b[0;32mpybloomfilter.pyx\u001b[0m in \u001b[0;36mpybloomfilter.BloomFilter.to_base64 (src/pybloomfilter.c:6239)\u001b[0;34m()\u001b[0m\n",
      "\u001b[0;32mpybloomfilter.pyx\u001b[0m in \u001b[0;36mpybloomfilter.BloomFilter.name.__get__ (src/pybloomfilter.c:3370)\u001b[0;34m()\u001b[0m\n",
      "\u001b[0;31mNotImplementedError\u001b[0m: Cannot access .name on an in-memory BloomFilter"
     ]
    }
   ],
   "source": [
    "print(\"Feature Extraction Time:\", t1-t0)\n",
    "print(\"LSH to Bloom time:\", t2-t1)\n",
    "print(\"Matches:\", count)\n",
    "print(\"Number of Training features\", len(T_des) )\n",
    "print(\"Number of Query features\", len(Q_des))\n",
    "print(\"Percent Matches:\", count*100/len(T_des) )\n",
    "print(\"Checking the Bloom time:\", t4-t3)\n",
    "#print(\"Size of Query Image:\",sys.getsizeof(query_img), \"and size of Bloom:\", sys.getsizeof(bf.to_base64()))\n",
    "bf.to_base64()"
   ]
  },
  {
   "cell_type": "code",
   "execution_count": 17,
   "metadata": {
    "collapsed": true
   },
   "outputs": [],
   "source": [
    "bf = BloomFilter(10**(LSH_dim/4),0.01,None) # resetting the bloom\n",
    "\n",
    "# testing it with a different query image\n",
    "\n",
    "test_img = cv2.imread('img_fjords.jpg',0)\n",
    "\n",
    "t0 = time.process_time()\n",
    "\n",
    "Q_kp, Q_des = detector.detectAndCompute(test_img, None)\n",
    "\n",
    "t1 = time.process_time()\n",
    "\n",
    "Q_reflections = Q_des.dot(LSH_random_vectors) >= 0\n",
    "#Q_bin = Q_reflections.dot(powers_of_two)\n",
    "\n",
    "for q in np.array(Q_reflections, dtype=int):\n",
    "    q = q.tostring(None)\n",
    "    bf.add(q)\n",
    "    \n",
    "t2 = time.process_time()"
   ]
  },
  {
   "cell_type": "code",
   "execution_count": null,
   "metadata": {
    "collapsed": true
   },
   "outputs": [],
   "source": []
  },
  {
   "cell_type": "code",
   "execution_count": 18,
   "metadata": {
    "collapsed": true
   },
   "outputs": [],
   "source": [
    "t3 = time.process_time()\n",
    "T_reflections = T_des.dot(LSH_random_vectors) >= 0\n",
    "#T_bin = T_reflections.dot(powers_of_two)\n",
    "\n",
    "count = 0\n",
    "for n in np.array(T_reflections, dtype=int):\n",
    "    if (n.tostring(None) in bf):\n",
    "        count = count + 1\n",
    "        \n",
    "t4 = time.process_time()"
   ]
  },
  {
   "cell_type": "code",
   "execution_count": 19,
   "metadata": {
    "scrolled": true
   },
   "outputs": [
    {
     "name": "stdout",
     "output_type": "stream",
     "text": [
      "Feature Extraction Time: 0.11624999999999996\n",
      "LSH to Bloom time: 0.0015160000000000728\n",
      "Matches: 1512\n",
      "Number of Training features 3190\n",
      "Number of Query features 753\n",
      "Percent Matches: 47.39811912225705\n",
      "Checking the Bloom time: 0.008882000000000279\n"
     ]
    }
   ],
   "source": [
    "print(\"Feature Extraction Time:\", t1-t0)\n",
    "print(\"LSH to Bloom time:\", t2-t1)\n",
    "print(\"Matches:\", count)\n",
    "print(\"Number of Training features\", len(T_des) )\n",
    "print(\"Number of Query features\", len(Q_des))\n",
    "print(\"Percent Matches:\", count*100/len(T_des) )\n",
    "print(\"Checking the Bloom time:\", t4-t3)"
   ]
  },
  {
   "cell_type": "code",
   "execution_count": null,
   "metadata": {
    "collapsed": true
   },
   "outputs": [],
   "source": []
  }
 ],
 "metadata": {
  "kernelspec": {
   "display_name": "Python [conda env:tutorials]",
   "language": "python",
   "name": "conda-env-tutorials-py"
  },
  "language_info": {
   "codemirror_mode": {
    "name": "ipython",
    "version": 3
   },
   "file_extension": ".py",
   "mimetype": "text/x-python",
   "name": "python",
   "nbconvert_exporter": "python",
   "pygments_lexer": "ipython3",
   "version": "3.6.3"
  }
 },
 "nbformat": 4,
 "nbformat_minor": 2
}
