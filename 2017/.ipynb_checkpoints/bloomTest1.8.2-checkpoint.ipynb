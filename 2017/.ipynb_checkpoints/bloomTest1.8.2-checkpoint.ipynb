{
 "cells": [
  {
   "cell_type": "code",
   "execution_count": 1,
   "metadata": {
    "collapsed": true,
    "nbpresent": {
     "id": "1ada4770-1f6a-4573-9fe5-b7155c2ac6a6"
    }
   },
   "outputs": [],
   "source": [
    "# A simple bloom filter implementation for validating its viability\n",
    "# for object detection (potentially for privacy-preserving AR).\n",
    "\n",
    "# Date 21-Nov-2017: Now, before we try to make any further changes,\n",
    "# In this code, we are trying to make a Bloom Filter from scratch using\n",
    "# MurmurHash3.\n",
    "\n",
    "from pybloomfilter import BloomFilter\n",
    "\n",
    "import numpy as np\n",
    "import cv2\n",
    "import time\n",
    "import sys\n",
    "import mmh3"
   ]
  },
  {
   "cell_type": "code",
   "execution_count": 50,
   "metadata": {
    "collapsed": true,
    "nbpresent": {
     "id": "fb385ea2-2333-4260-8acc-d2e003ad3ebb"
    }
   },
   "outputs": [],
   "source": [
    "detector = cv2.xfeatures2d.SIFT_create()\n",
    "\n",
    "train_img = cv2.imread('train.jpg',0)\n",
    "query_img = cv2.imread('raw.png',0)\n",
    "\n",
    "LSH_dim = 8\n",
    "L_buckets = 5\n",
    "K = 8"
   ]
  },
  {
   "cell_type": "code",
   "execution_count": 51,
   "metadata": {
    "collapsed": true
   },
   "outputs": [],
   "source": [
    "T_kp, T_des = detector.detectAndCompute(train_img, None)\n",
    "\n",
    "_, dim = T_des.shape"
   ]
  },
  {
   "cell_type": "code",
   "execution_count": 52,
   "metadata": {
    "collapsed": true
   },
   "outputs": [],
   "source": [
    "# Starting below, we are using the multiple Blooms."
   ]
  },
  {
   "cell_type": "code",
   "execution_count": 53,
   "metadata": {
    "collapsed": true,
    "nbpresent": {
     "id": "7dcb00b3-bd53-4c3a-ab3c-8e5f988c4d6c"
    }
   },
   "outputs": [],
   "source": [
    "LSH_random_vectors_set = []\n",
    "#powers_of_two = 1 << np.arange(LSH_dim-1, -1, -1)\n",
    "\n",
    "# creating the multiple LSH random vectors\n",
    "for i in range(L_buckets):\n",
    "    np.random.seed(i)\n",
    "    LSH_random_vectors_set.append(np.random.randn(dim, LSH_dim))\n",
    "\n",
    "# creating the multiple Bloom Filters\n",
    "BF_set = []\n",
    "for i in range(L_buckets):\n",
    "    BF_set.append(np.zeros(2**(LSH_dim+K+1), dtype=np.int))\n",
    "    \n",
    "VBF_set = []\n",
    "for i in range(L_buckets):\n",
    "    VBF_set.append(BloomFilter(10000000, 0.01, None))"
   ]
  },
  {
   "cell_type": "code",
   "execution_count": 54,
   "metadata": {},
   "outputs": [
    {
     "data": {
      "text/plain": [
       "0"
      ]
     },
     "execution_count": 54,
     "metadata": {},
     "output_type": "execute_result"
    }
   ],
   "source": [
    "len(BF_set[0])\n",
    "#BF_set[0][1]=2\n",
    "sum(BF_set[0])"
   ]
  },
  {
   "cell_type": "code",
   "execution_count": 55,
   "metadata": {},
   "outputs": [
    {
     "name": "stdout",
     "output_type": "stream",
     "text": [
      "0.16189300000000095\n"
     ]
    }
   ],
   "source": [
    "t0 = time.process_time()\n",
    "\n",
    "Q_kp, Q_des = detector.detectAndCompute(query_img, None)\n",
    "\n",
    "t1 = time.process_time()\n",
    "\n",
    "for i in range(L_buckets):\n",
    "    Q_reflections = Q_des.dot(LSH_random_vectors_set[i]) >= 0\n",
    "    \n",
    "    for q in np.array(Q_reflections, dtype=int):\n",
    "        # Experimenting on bit position distribution for Bloom filters from\n",
    "        # scratch.\n",
    "        hq1, hq2 = mmh3.hash64(q,i,signed=False)\n",
    "        v_element = 0\n",
    "        \n",
    "        for k in range(K):\n",
    "            pos = (hq1 + k*hq2 + k**2)%len(BF_set[i])\n",
    "            BF_set[i][pos] = BF_set[i][pos] + 1\n",
    "            \n",
    "            v_element = v_element + 2**pos\n",
    "            #print(i, pos, BF_set[i][pos])\n",
    "        #print(q, q.tostring(None))\n",
    "        #BF_set[i].add(q.tostring(None))\n",
    "        VBF_set[i].add(v_element)\n",
    "    \n",
    "t2 = time.process_time()\n",
    "print(t2-t1)"
   ]
  },
  {
   "cell_type": "code",
   "execution_count": 56,
   "metadata": {
    "nbpresent": {
     "id": "329f0997-26cd-43d9-861d-f4e6fcbc135c"
    },
    "scrolled": true
   },
   "outputs": [
    {
     "data": {
      "text/plain": [
       "11800"
      ]
     },
     "execution_count": 56,
     "metadata": {},
     "output_type": "execute_result"
    }
   ],
   "source": [
    "sum(BF_set[0])"
   ]
  },
  {
   "cell_type": "code",
   "execution_count": 57,
   "metadata": {
    "collapsed": true
   },
   "outputs": [],
   "source": [
    "t3 = time.process_time()\n",
    "\n",
    "count = 0\n",
    "\n",
    "for n in T_des:\n",
    "    inBucket = True\n",
    "    \n",
    "    for i in range(len(BF_set)):\n",
    "        T_reflections = n.dot(LSH_random_vectors_set[i]) >= 0\n",
    "        r = np.array(T_reflections, dtype=int)\n",
    "        countk = 0\n",
    "        \n",
    "        # This is the querying-the-Bloom-filter stage\n",
    "        ht1, ht2 = mmh3.hash64(r,i,signed=False)\n",
    "        v_element = 0\n",
    "        for k in range(K):\n",
    "            pos = (ht1 + k*ht2 + k**2)%len(BF_set[i])\n",
    "            v_element = v_element + 2**pos\n",
    "            if (BF_set[i][pos] > 0):\n",
    "                countk = countk + 1\n",
    "            #elif (BF_set[i][pos-1]> 0 | BF_set[i][pos+1] > 0):\n",
    "            #    countk = countk + 0.5\n",
    "\n",
    "        inBucket = inBucket and (countk>K-1) and ()\n",
    "        \n",
    "    count = count + inBucket\n",
    "\n",
    "t4 = time.process_time()"
   ]
  },
  {
   "cell_type": "code",
   "execution_count": 58,
   "metadata": {
    "nbpresent": {
     "id": "d09e3ee4-fe7a-4c12-b5a1-9ce7885161f3"
    },
    "scrolled": true
   },
   "outputs": [
    {
     "name": "stdout",
     "output_type": "stream",
     "text": [
      "Feature Extraction Time: 0.3180809999999994\n",
      "LSH to Bloom time: 0.16189300000000095\n",
      "Matches: 2690\n",
      "Number of Reference features: 3190\n",
      "Number of Query features: 1475\n",
      "Percent Matches: 84.32601880877743\n",
      "Checking the Bloom time: 0.2325109999999988\n"
     ]
    }
   ],
   "source": [
    "print(\"Feature Extraction Time:\", t1-t0)\n",
    "print(\"LSH to Bloom time:\", t2-t1)\n",
    "print(\"Matches:\", count)\n",
    "print(\"Number of Reference features:\", len(T_des) )\n",
    "print(\"Number of Query features:\", len(Q_des))\n",
    "print(\"Percent Matches:\", count*100/len(T_des) )\n",
    "print(\"Checking the Bloom time:\", t4-t3)"
   ]
  },
  {
   "cell_type": "code",
   "execution_count": 59,
   "metadata": {},
   "outputs": [
    {
     "name": "stdout",
     "output_type": "stream",
     "text": [
      "0.09056400000000053\n"
     ]
    }
   ],
   "source": [
    "# resetting the multiple Bloom Filters\n",
    "\n",
    "test_img = cv2.imread('img_fjords.jpg',0)\n",
    "\n",
    "BF_set = []\n",
    "for i in range(L_buckets):\n",
    "    BF_set.append(np.zeros(10**(K), dtype=np.int))\n",
    "\n",
    "t0 = time.process_time()\n",
    "\n",
    "Q_kp, Q_des = detector.detectAndCompute(test_img, None)\n",
    "\n",
    "t1 = time.process_time()\n",
    "\n",
    "for i in range(L_buckets):\n",
    "    Q_reflections = Q_des.dot(LSH_random_vectors_set[i]) >= 0\n",
    "    \n",
    "    for q in np.array(Q_reflections, dtype=int):\n",
    "        # Experimenting on bit position distribution for Bloom filters from\n",
    "        # scratch.\n",
    "        hq1, hq2 = mmh3.hash64(q,i,signed=False)\n",
    "\n",
    "        for k in range(K):\n",
    "            pos = (hq1 + k*hq2 + k**2)%len(BF_set[i])\n",
    "            BF_set[i][pos] = BF_set[i][pos] + 1\n",
    "        #print(q, q.tostring(None))\n",
    "        #BF_set[i].add(q.tostring(None))\n",
    "    \n",
    "t2 = time.process_time()\n",
    "print(t2-t1)"
   ]
  },
  {
   "cell_type": "code",
   "execution_count": 60,
   "metadata": {
    "collapsed": true
   },
   "outputs": [],
   "source": [
    "t3 = time.process_time()\n",
    "\n",
    "count = 0\n",
    "\n",
    "for n in T_des:\n",
    "    inBucket = True\n",
    "    \n",
    "    for i in range(len(BF_set)):\n",
    "        T_reflections = n.dot(LSH_random_vectors_set[i]) >= 0\n",
    "        r = np.array(T_reflections, dtype=int)\n",
    "        countk = 0\n",
    "        \n",
    "        # This is the querying-the-Bloom-filter stage\n",
    "        ht1, ht2 = mmh3.hash64(r,i,signed=False)\n",
    "        for k in range(K):\n",
    "            pos = (ht1 + k*ht2 + k**2)%len(BF_set[i])\n",
    "            if (BF_set[i][pos] > 0):\n",
    "                countk = countk + 1\n",
    "            #elif (BF_set[i][pos-1]> 0 | BF_set[i][pos+1] > 0):\n",
    "            #    countk = countk + 0.5\n",
    "\n",
    "        inBucket = inBucket and bool(countk>K-1)\n",
    "        \n",
    "    count = count + inBucket\n",
    "\n",
    "t4 = time.process_time()"
   ]
  },
  {
   "cell_type": "code",
   "execution_count": 61,
   "metadata": {
    "scrolled": true
   },
   "outputs": [
    {
     "name": "stdout",
     "output_type": "stream",
     "text": [
      "Feature Extraction Time: 0.12089099999999853\n",
      "LSH to Bloom time: 0.09056400000000053\n",
      "Matches: 2082\n",
      "Number of Training features: 3190\n",
      "Number of Test Query features: 753\n",
      "Percent Matches: 65.26645768025078\n",
      "Checking the Bloom time: 0.24009899999999895\n"
     ]
    }
   ],
   "source": [
    "print(\"Feature Extraction Time:\", t1-t0)\n",
    "print(\"LSH to Bloom time:\", t2-t1)\n",
    "print(\"Matches:\", count)\n",
    "print(\"Number of Training features:\", len(T_des) )\n",
    "print(\"Number of Test Query features:\", len(Q_des))\n",
    "print(\"Percent Matches:\", count*100/len(T_des) )\n",
    "print(\"Checking the Bloom time:\", t4-t3)"
   ]
  },
  {
   "cell_type": "code",
   "execution_count": null,
   "metadata": {
    "collapsed": true
   },
   "outputs": [],
   "source": []
  }
 ],
 "metadata": {
  "kernelspec": {
   "display_name": "Python [conda env:tutorials]",
   "language": "python",
   "name": "conda-env-tutorials-py"
  },
  "language_info": {
   "codemirror_mode": {
    "name": "ipython",
    "version": 3
   },
   "file_extension": ".py",
   "mimetype": "text/x-python",
   "name": "python",
   "nbconvert_exporter": "python",
   "pygments_lexer": "ipython3",
   "version": "3.6.3"
  }
 },
 "nbformat": 4,
 "nbformat_minor": 2
}
