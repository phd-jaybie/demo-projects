{
 "cells": [
  {
   "cell_type": "code",
   "execution_count": 1,
   "metadata": {
    "collapsed": true,
    "nbpresent": {
     "id": "1ada4770-1f6a-4573-9fe5-b7155c2ac6a6"
    }
   },
   "outputs": [],
   "source": [
    "# A simple bloom filter implementation for validating its viability\n",
    "# for object detection (potentially for privacy-preserving AR).\n",
    "\n",
    "# Date 21-Nov-2017: Now, before we try to make any further changes,\n",
    "# In this code, we are trying to make a Bloom Filter from scratch using\n",
    "# MurmurHash3.\n",
    "\n",
    "from pybloomfilter import BloomFilter\n",
    "\n",
    "import numpy as np\n",
    "import cv2\n",
    "import time\n",
    "import sys\n",
    "import mmh3"
   ]
  },
  {
   "cell_type": "code",
   "execution_count": 2,
   "metadata": {
    "collapsed": true,
    "nbpresent": {
     "id": "fb385ea2-2333-4260-8acc-d2e003ad3ebb"
    }
   },
   "outputs": [],
   "source": [
    "detector = cv2.xfeatures2d.SIFT_create()\n",
    "\n",
    "train_img = cv2.imread('train.jpg',0)\n",
    "query_img = cv2.imread('raw.png',0)\n",
    "\n",
    "LSH_dim = 8\n",
    "L_buckets = 1\n",
    "K = 4"
   ]
  },
  {
   "cell_type": "code",
   "execution_count": 3,
   "metadata": {
    "collapsed": true
   },
   "outputs": [],
   "source": [
    "T_kp, T_des = detector.detectAndCompute(train_img, None)\n",
    "\n",
    "_, dim = T_des.shape"
   ]
  },
  {
   "cell_type": "code",
   "execution_count": 4,
   "metadata": {
    "collapsed": true
   },
   "outputs": [],
   "source": [
    "# Starting below, we are using the multiple Blooms."
   ]
  },
  {
   "cell_type": "code",
   "execution_count": 5,
   "metadata": {
    "collapsed": true,
    "nbpresent": {
     "id": "7dcb00b3-bd53-4c3a-ab3c-8e5f988c4d6c"
    }
   },
   "outputs": [],
   "source": [
    "LSH_random_vectors_set = []\n",
    "#powers_of_two = 1 << np.arange(LSH_dim-1, -1, -1)\n",
    "\n",
    "# creating the multiple LSH random vectors\n",
    "for i in range(L_buckets):\n",
    "    np.random.seed(i)\n",
    "    LSH_random_vectors_set.append(np.random.randn(dim, LSH_dim))\n",
    "\n",
    "# creating the multiple Bloom Filters\n",
    "BF_set = []\n",
    "for i in range(L_buckets):\n",
    "    BF_set.append(np.zeros(2**(LSH_dim+K), dtype=np.int))"
   ]
  },
  {
   "cell_type": "code",
   "execution_count": 6,
   "metadata": {},
   "outputs": [
    {
     "data": {
      "text/plain": [
       "0"
      ]
     },
     "execution_count": 6,
     "metadata": {},
     "output_type": "execute_result"
    }
   ],
   "source": [
    "len(BF_set[0])\n",
    "#BF_set[0][1]=2\n",
    "sum(BF_set[0])"
   ]
  },
  {
   "cell_type": "code",
   "execution_count": 7,
   "metadata": {},
   "outputs": [
    {
     "name": "stdout",
     "output_type": "stream",
     "text": [
      "0.026190999999999853\n"
     ]
    }
   ],
   "source": [
    "t0 = time.process_time()\n",
    "\n",
    "Q_kp, Q_des = detector.detectAndCompute(query_img, None)\n",
    "\n",
    "t1 = time.process_time()\n",
    "\n",
    "for i in range(L_buckets):\n",
    "    Q_reflections = Q_des.dot(LSH_random_vectors_set[i]) >= 0\n",
    "    \n",
    "    for q in np.array(Q_reflections, dtype=int):\n",
    "        # Experimenting on bit position distribution for Bloom filters from\n",
    "        # scratch.\n",
    "        hq1, hq2 = mmh3.hash64(q,i,signed=False)\n",
    "\n",
    "        for k in range(K):\n",
    "            pos = (hq1 + k*hq2 + k**2)%len(BF_set[i])\n",
    "            BF_set[i][pos] = BF_set[i][pos] + 1\n",
    "            #print(i, pos, BF_set[i][pos])\n",
    "        #print(q, q.tostring(None))\n",
    "        #BF_set[i].add(q.tostring(None))\n",
    "    \n",
    "t2 = time.process_time()\n",
    "print(t2-t1)"
   ]
  },
  {
   "cell_type": "code",
   "execution_count": 8,
   "metadata": {
    "nbpresent": {
     "id": "329f0997-26cd-43d9-861d-f4e6fcbc135c"
    },
    "scrolled": true
   },
   "outputs": [
    {
     "data": {
      "text/plain": [
       "5900"
      ]
     },
     "execution_count": 8,
     "metadata": {},
     "output_type": "execute_result"
    }
   ],
   "source": [
    "sum(BF_set[0])"
   ]
  },
  {
   "cell_type": "code",
   "execution_count": 9,
   "metadata": {
    "collapsed": true
   },
   "outputs": [],
   "source": [
    "t3 = time.process_time()\n",
    "\n",
    "count = 0\n",
    "\n",
    "for n in T_des:\n",
    "    inBucket = True\n",
    "    \n",
    "    for i in range(len(BF_set)):\n",
    "        T_reflections = n.dot(LSH_random_vectors_set[i]) >= 0\n",
    "        r = np.array(T_reflections, dtype=int)\n",
    "        countk = 0\n",
    "        \n",
    "        # This is the querying-the-Bloom-filter stage\n",
    "        ht1, ht2 = mmh3.hash64(r,i,signed=False)\n",
    "        for k in range(K):\n",
    "            pos = (ht1 + k*ht2 + k**2)%len(BF_set[i])\n",
    "            if (BF_set[i][pos] > 0):\n",
    "                countk = countk + 1\n",
    "            elif (BF_set[i][pos-1]> 0 | BF_set[i][pos+1] > 0):\n",
    "                countk = countk + 0.5\n",
    "\n",
    "        inBucket = inBucket and bool(countk>K-1)\n",
    "        \n",
    "    count = count + inBucket\n",
    "\n",
    "t4 = time.process_time()"
   ]
  },
  {
   "cell_type": "code",
   "execution_count": 11,
   "metadata": {
    "nbpresent": {
     "id": "d09e3ee4-fe7a-4c12-b5a1-9ce7885161f3"
    },
    "scrolled": true
   },
   "outputs": [
    {
     "name": "stdout",
     "output_type": "stream",
     "text": [
      "Feature Extraction Time: 0.33876700000000026\n",
      "LSH to Bloom time: 0.026190999999999853\n",
      "Matches: 3078\n",
      "Number of Reference features: 3190\n",
      "Number of Query features: 1475\n",
      "Percent Matches: 96.48902821316615\n",
      "Checking the Bloom time: 0.06083799999999995\n"
     ]
    }
   ],
   "source": [
    "print(\"Feature Extraction Time:\", t1-t0)\n",
    "print(\"LSH to Bloom time:\", t2-t1)\n",
    "print(\"Matches:\", count)\n",
    "print(\"Number of Reference features:\", len(T_des) )\n",
    "print(\"Number of Query features:\", len(Q_des))\n",
    "print(\"Percent Matches:\", count*100/len(T_des) )\n",
    "print(\"Checking the Bloom time:\", t4-t3)"
   ]
  },
  {
   "cell_type": "code",
   "execution_count": 67,
   "metadata": {},
   "outputs": [
    {
     "name": "stdout",
     "output_type": "stream",
     "text": [
      "0.006886999999998977\n"
     ]
    }
   ],
   "source": [
    "# resetting the multiple Bloom Filters\n",
    "\n",
    "test_img = cv2.imread('img_fjords.jpg',0)\n",
    "\n",
    "BF_set = []\n",
    "for i in range(L_buckets):\n",
    "    BF_set.append(np.zeros(10**(K), dtype=np.int))\n",
    "\n",
    "t0 = time.process_time()\n",
    "\n",
    "Q_kp, Q_des = detector.detectAndCompute(test_img, None)\n",
    "\n",
    "t1 = time.process_time()\n",
    "\n",
    "for i in range(L_buckets):\n",
    "    Q_reflections = Q_des.dot(LSH_random_vectors_set[i]) >= 0\n",
    "    \n",
    "    for q in np.array(Q_reflections, dtype=int):\n",
    "        # Experimenting on bit position distribution for Bloom filters from\n",
    "        # scratch.\n",
    "        hq1, hq2 = mmh3.hash64(q,i,signed=False)\n",
    "\n",
    "        for k in range(K):\n",
    "            pos = (hq1 + k*hq2 + k**2)%len(BF_set[i])\n",
    "            #BF_set[i][pos] = BF_set[i][pos] + 1\n",
    "        #print(q, q.tostring(None))\n",
    "        #BF_set[i].add(q.tostring(None))\n",
    "    \n",
    "t2 = time.process_time()\n",
    "print(t2-t1)"
   ]
  },
  {
   "cell_type": "code",
   "execution_count": 68,
   "metadata": {
    "collapsed": true
   },
   "outputs": [],
   "source": [
    "t3 = time.process_time()\n",
    "\n",
    "count = 0\n",
    "\n",
    "for n in T_des:\n",
    "    inBucket = True\n",
    "    \n",
    "    for i in range(len(BF_set)):\n",
    "        T_reflections = n.dot(LSH_random_vectors_set[i]) >= 0\n",
    "        r = np.array(T_reflections, dtype=int)\n",
    "        countk = 0\n",
    "        \n",
    "        # This is the querying-the-Bloom-filter stage\n",
    "        ht1, ht2 = mmh3.hash64(r,i,signed=False)\n",
    "        for k in range(K):\n",
    "            pos = (ht1 + k*ht2 + k**2)%len(BF_set[i])\n",
    "            if (BF_set[i][pos] > 0):\n",
    "                countk = countk + 1\n",
    "            elif (BF_set[i][pos-1]> 0 | BF_set[i][pos+1] > 0):\n",
    "                countk = countk + 0.5\n",
    "\n",
    "        inBucket = inBucket and bool(countk>K-1)\n",
    "        \n",
    "    count = count + inBucket\n",
    "\n",
    "t4 = time.process_time()"
   ]
  },
  {
   "cell_type": "code",
   "execution_count": 69,
   "metadata": {
    "scrolled": true
   },
   "outputs": [
    {
     "name": "stdout",
     "output_type": "stream",
     "text": [
      "Feature Extraction Time: 0.11415299999999995\n",
      "LSH to Bloom time: 0.006886999999998977\n",
      "Matches: 0\n",
      "Number of Training features: 3190\n",
      "Number of Test Query features: 753\n",
      "Percent Matches: 0.0\n",
      "Checking the Bloom time: 0.051725999999998606\n"
     ]
    }
   ],
   "source": [
    "print(\"Feature Extraction Time:\", t1-t0)\n",
    "print(\"LSH to Bloom time:\", t2-t1)\n",
    "print(\"Matches:\", count)\n",
    "print(\"Number of Training features:\", len(T_des) )\n",
    "print(\"Number of Test Query features:\", len(Q_des))\n",
    "print(\"Percent Matches:\", count*100/len(T_des) )\n",
    "print(\"Checking the Bloom time:\", t4-t3)"
   ]
  },
  {
   "cell_type": "code",
   "execution_count": null,
   "metadata": {
    "collapsed": true
   },
   "outputs": [],
   "source": []
  }
 ],
 "metadata": {
  "kernelspec": {
   "display_name": "Python [conda env:tutorials]",
   "language": "python",
   "name": "conda-env-tutorials-py"
  },
  "language_info": {
   "codemirror_mode": {
    "name": "ipython",
    "version": 3
   },
   "file_extension": ".py",
   "mimetype": "text/x-python",
   "name": "python",
   "nbconvert_exporter": "python",
   "pygments_lexer": "ipython3",
   "version": "3.6.3"
  }
 },
 "nbformat": 4,
 "nbformat_minor": 2
}
