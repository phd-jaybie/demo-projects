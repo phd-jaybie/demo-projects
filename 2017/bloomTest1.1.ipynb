{
 "cells": [
  {
   "cell_type": "code",
   "execution_count": 1,
   "metadata": {
    "collapsed": true,
    "nbpresent": {
     "id": "1ada4770-1f6a-4573-9fe5-b7155c2ac6a6"
    }
   },
   "outputs": [],
   "source": [
    "# A simple bloom filter implementation for validating its viability\n",
    "# for object detection (potentially for privacy-preserving AR).\n",
    "\n",
    "# Date 13-Nov-2017: In this version, we are just using plain features\n",
    "# and adding them to the Bloom. Specifically, we just convert each\n",
    "# the 128-element array of SIFT features to their byte representation\n",
    "# and add them to the Bloom; thus, each\n",
    "\n",
    "from pybloomfilter import BloomFilter\n",
    "import numpy as np\n",
    "import cv2\n",
    "import sys"
   ]
  },
  {
   "cell_type": "code",
   "execution_count": 2,
   "metadata": {
    "nbpresent": {
     "id": "fb385ea2-2333-4260-8acc-d2e003ad3ebb"
    }
   },
   "outputs": [],
   "source": [
    "detector = cv2.xfeatures2d.SIFT_create()\n",
    "\n",
    "bf = BloomFilter(10000000, 0.01, None)\n",
    "\n",
    "train_img = cv2.imread('train.jpg',0)\n",
    "query_img = cv2.imread('raw.png',0)"
   ]
  },
  {
   "cell_type": "code",
   "execution_count": 3,
   "metadata": {
    "collapsed": true,
    "nbpresent": {
     "id": "7dcb00b3-bd53-4c3a-ab3c-8e5f988c4d6c"
    }
   },
   "outputs": [],
   "source": [
    "T_kp, T_des = detector.detectAndCompute(train_img, None)\n",
    "Q_kp, Q_des = detector.detectAndCompute(query_img, None)\n",
    "\n",
    "_, dim = Q_des.shape\n",
    "LSH_dim = 64\n",
    "np.random.seed(0)\n",
    "LSH_random_vectors = np.random.randn(dim, LSH_dim)\n",
    "powers_of_two = 1 << np.arange(LSH_dim-1, -1, -1)"
   ]
  },
  {
   "cell_type": "code",
   "execution_count": 4,
   "metadata": {
    "collapsed": true
   },
   "outputs": [],
   "source": [
    "for m in Q_des:\n",
    "    # needs to insert here a method for re-hashing or\n",
    "    # transforming the array list of descriptors to a bit array\n",
    "    \n",
    "    m = m.tostring(None) # using this one results to a trivial outcome,\n",
    "    # as direct implementation of bloom filters requires an exactness,\n",
    "    # as we have earlier suspected. Thus, some form of generalization\n",
    "    # to get rid of 'exactness' has to be implemented, before we add it\n",
    "    # to the bloom filter. In the Duke paper, they implemented LSH as a\n",
    "    # form of generalization.\n",
    "    \n",
    "    bf.add(m)"
   ]
  },
  {
   "cell_type": "code",
   "execution_count": 5,
   "metadata": {
    "nbpresent": {
     "id": "329f0997-26cd-43d9-861d-f4e6fcbc135c"
    },
    "scrolled": true
   },
   "outputs": [
    {
     "name": "stdout",
     "output_type": "stream",
     "text": [
      "<BloomFilter capacity: 10000000, error: 0.010, num_hashes: 6>\n"
     ]
    },
    {
     "data": {
      "text/plain": [
       "64"
      ]
     },
     "execution_count": 5,
     "metadata": {},
     "output_type": "execute_result"
    }
   ],
   "source": [
    "count = 0\n",
    "print(bf)\n",
    "len(bf)\n",
    "#des2[0].shape\n",
    "sys.getsizeof(bf)"
   ]
  },
  {
   "cell_type": "code",
   "execution_count": 6,
   "metadata": {
    "collapsed": true,
    "nbpresent": {
     "id": "66e6b73a-a9fb-4865-bf72-4da5479a775a"
    }
   },
   "outputs": [],
   "source": [
    "for n in T_des:\n",
    "    n = n.tostring(None)\n",
    "    if (n in bf):\n",
    "        count = count + 1"
   ]
  },
  {
   "cell_type": "code",
   "execution_count": 7,
   "metadata": {
    "nbpresent": {
     "id": "d09e3ee4-fe7a-4c12-b5a1-9ce7885161f3"
    }
   },
   "outputs": [
    {
     "name": "stdout",
     "output_type": "stream",
     "text": [
      "Matches: 0\n",
      "Percent Matches: 0.0\n"
     ]
    }
   ],
   "source": [
    "print(\"Matches:\", count)\n",
    "print(\"Percent Matches:\", count*100/len(T_des))"
   ]
  },
  {
   "cell_type": "code",
   "execution_count": 8,
   "metadata": {
    "collapsed": true
   },
   "outputs": [],
   "source": [
    "test_img = cv2.imread('img_fjords.jpg',0)\n",
    "T_kp, T_des = detector.detectAndCompute(test_img, None)"
   ]
  },
  {
   "cell_type": "code",
   "execution_count": null,
   "metadata": {
    "collapsed": true
   },
   "outputs": [],
   "source": []
  }
 ],
 "metadata": {
  "kernelspec": {
   "display_name": "Python [conda env:tutorials]",
   "language": "python",
   "name": "conda-env-tutorials-py"
  },
  "language_info": {
   "codemirror_mode": {
    "name": "ipython",
    "version": 3
   },
   "file_extension": ".py",
   "mimetype": "text/x-python",
   "name": "python",
   "nbconvert_exporter": "python",
   "pygments_lexer": "ipython3",
   "version": "3.6.3"
  }
 },
 "nbformat": 4,
 "nbformat_minor": 2
}
