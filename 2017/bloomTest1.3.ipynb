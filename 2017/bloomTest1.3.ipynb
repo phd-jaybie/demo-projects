{
 "cells": [
  {
   "cell_type": "code",
   "execution_count": 1,
   "metadata": {
    "collapsed": true,
    "nbpresent": {
     "id": "1ada4770-1f6a-4573-9fe5-b7155c2ac6a6"
    }
   },
   "outputs": [],
   "source": [
    "# A simple bloom filter implementation for validating its viability\n",
    "# for object detection (potentially for privacy-preserving AR).\n",
    "\n",
    "# Date 16-Nov-2017: This version now uses an LSH approach and adds the\n",
    "# resulting  (post-LSH) reduced binary vector (instead of the integer\n",
    "# version) representation of a SIFT feature as an element to the Bloom\n",
    "# filter. The previous version further compresses the resulting binary\n",
    "# vector into an integer and, then, adds the direct byte representation\n",
    "# to the Bloom. Here, the byte representation of the binary vector\n",
    "# (pre-integer) is added to the Bloom.\n",
    "\n",
    "from pybloomfilter import BloomFilter\n",
    "import numpy as np\n",
    "import cv2\n",
    "import time\n",
    "import sys"
   ]
  },
  {
   "cell_type": "code",
   "execution_count": 2,
   "metadata": {
    "collapsed": true,
    "nbpresent": {
     "id": "fb385ea2-2333-4260-8acc-d2e003ad3ebb"
    }
   },
   "outputs": [],
   "source": [
    "detector = cv2.xfeatures2d.SIFT_create()\n",
    "\n",
    "train_img = cv2.imread('train.jpg',0)\n",
    "query_img = cv2.imread('raw.png',0)"
   ]
  },
  {
   "cell_type": "code",
   "execution_count": 3,
   "metadata": {
    "collapsed": true
   },
   "outputs": [],
   "source": [
    "T_kp, T_des = detector.detectAndCompute(train_img, None)"
   ]
  },
  {
   "cell_type": "code",
   "execution_count": 4,
   "metadata": {
    "collapsed": true,
    "nbpresent": {
     "id": "7dcb00b3-bd53-4c3a-ab3c-8e5f988c4d6c"
    }
   },
   "outputs": [],
   "source": [
    "_, dim = T_des.shape\n",
    "LSH_dim = 16\n",
    "np.random.seed(0)\n",
    "LSH_random_vectors = np.random.randn(dim, LSH_dim)\n",
    "powers_of_two = 1 << np.arange(LSH_dim-1, -1, -1)"
   ]
  },
  {
   "cell_type": "code",
   "execution_count": 5,
   "metadata": {},
   "outputs": [],
   "source": [
    "bf = BloomFilter(10**(LSH_dim/4),0.01,None)\n",
    "\n",
    "# We maximize the efficiency by utilizing matrix operations\n",
    "# for the crude LSH implementation\n",
    "\n",
    "t0 = time.process_time()\n",
    "\n",
    "Q_kp, Q_des = detector.detectAndCompute(query_img, None)\n",
    "\n",
    "t1 = time.process_time()\n",
    "\n",
    "Q_reflections = Q_des.dot(LSH_random_vectors) >= 0\n",
    "#Q_bin = Q_reflections.dot(powers_of_two)\n",
    "\n",
    "# And we remove duplicates to ensure uniqueness of features\n",
    "for q in np.array(Q_reflections, dtype=int):\n",
    "    # needs to insert here a method for re-hashing or\n",
    "    # transforming the array list of descriptors to a bit array\n",
    "    \n",
    "    # m = m.tostring(None) # using this one results to a trivial outcome,\n",
    "    # as direct implementation of bloom filters requires an exactness,\n",
    "    # as we have earlier suspected. Thus, some form of generalization\n",
    "    # to get rid of 'exactness' has to be implemented, before we add it\n",
    "    # to the bloom filter. In the Duke paper, they implemented LSH as a\n",
    "    # form of generalization.\n",
    "    \n",
    "    # Now, we use a crude LSH that results to a LSH_dim-bit output.\n",
    "    # We hash individual feature vectors of dimension 1 x 128 through a\n",
    "    # 128 x LSH_dim random vector set.\n",
    "    # print(m_reflections, m_bin)\n",
    "    bf.add(q.tostring(None))\n",
    "    \n",
    "t2 = time.process_time()"
   ]
  },
  {
   "cell_type": "code",
   "execution_count": 6,
   "metadata": {
    "nbpresent": {
     "id": "329f0997-26cd-43d9-861d-f4e6fcbc135c"
    },
    "scrolled": true
   },
   "outputs": [
    {
     "name": "stdout",
     "output_type": "stream",
     "text": [
      "<BloomFilter capacity: 10000, error: 0.010, num_hashes: 6>\n"
     ]
    },
    {
     "data": {
      "text/plain": [
       "654"
      ]
     },
     "execution_count": 6,
     "metadata": {},
     "output_type": "execute_result"
    }
   ],
   "source": [
    "print(bf)\n",
    "len(bf)"
   ]
  },
  {
   "cell_type": "code",
   "execution_count": 7,
   "metadata": {
    "collapsed": true,
    "nbpresent": {
     "id": "66e6b73a-a9fb-4865-bf72-4da5479a775a"
    }
   },
   "outputs": [],
   "source": [
    "t3 = time.process_time()\n",
    "T_reflections = T_des.dot(LSH_random_vectors) >= 0\n",
    "#T_bin = T_reflections.dot(powers_of_two)\n",
    "\n",
    "count = 0\n",
    "for n in np.array(T_reflections, dtype=int):\n",
    "    n = n.tostring(None)\n",
    "    if (n in bf):\n",
    "        count = count + 1\n",
    "        \n",
    "t4 = time.process_time()"
   ]
  },
  {
   "cell_type": "code",
   "execution_count": 10,
   "metadata": {
    "nbpresent": {
     "id": "d09e3ee4-fe7a-4c12-b5a1-9ce7885161f3"
    },
    "scrolled": true
   },
   "outputs": [
    {
     "name": "stdout",
     "output_type": "stream",
     "text": [
      "Feature Extraction Time: 0.31196099999999993\n",
      "LSH to Bloom time: 0.00546100000000016\n",
      "Matches: 2032\n",
      "Number of Training features 3190\n",
      "Number of Query features 1475\n",
      "Percent Matches: 63.69905956112853\n",
      "Checking the Bloom time: 0.00959000000000021\n"
     ]
    }
   ],
   "source": [
    "print(\"Feature Extraction Time:\", t1-t0)\n",
    "print(\"LSH to Bloom time:\", t2-t1)\n",
    "print(\"Matches:\", count)\n",
    "print(\"Number of Training features\", len(T_des) )\n",
    "print(\"Number of Query features\", len(Q_des))\n",
    "print(\"Percent Matches:\", count*100/len(T_des) )\n",
    "print(\"Checking the Bloom time:\", t4-t3)"
   ]
  },
  {
   "cell_type": "code",
   "execution_count": 11,
   "metadata": {
    "collapsed": true
   },
   "outputs": [],
   "source": [
    "bf = BloomFilter(10**(LSH_dim/4),0.01,None) # resetting the bloom\n",
    "\n",
    "# testing it with a different query image\n",
    "\n",
    "test_img = cv2.imread('img_fjords.jpg',0)\n",
    "\n",
    "t0 = time.process_time()\n",
    "\n",
    "Q_kp, Q_des = detector.detectAndCompute(test_img, None)\n",
    "\n",
    "t1 = time.process_time()\n",
    "\n",
    "Q_reflections = Q_des.dot(LSH_random_vectors) >= 0\n",
    "#Q_bin = Q_reflections.dot(powers_of_two)\n",
    "\n",
    "for q in np.array(Q_reflections, dtype=int):\n",
    "    q = q.tostring(None)\n",
    "    bf.add(q)\n",
    "    \n",
    "t2 = time.process_time()"
   ]
  },
  {
   "cell_type": "code",
   "execution_count": null,
   "metadata": {
    "collapsed": true
   },
   "outputs": [],
   "source": []
  },
  {
   "cell_type": "code",
   "execution_count": 12,
   "metadata": {
    "collapsed": true
   },
   "outputs": [],
   "source": [
    "t3 = time.process_time()\n",
    "T_reflections = T_des.dot(LSH_random_vectors) >= 0\n",
    "#T_bin = T_reflections.dot(powers_of_two)\n",
    "\n",
    "count = 0\n",
    "for n in np.array(T_reflections, dtype=int):\n",
    "    if (n.tostring(None) in bf):\n",
    "        count = count + 1\n",
    "        \n",
    "t4 = time.process_time()"
   ]
  },
  {
   "cell_type": "code",
   "execution_count": 13,
   "metadata": {
    "scrolled": true
   },
   "outputs": [
    {
     "name": "stdout",
     "output_type": "stream",
     "text": [
      "Feature Extraction Time: 0.11929300000000032\n",
      "LSH to Bloom time: 0.0016490000000000116\n",
      "Matches: 1512\n",
      "Number of Training features 3190\n",
      "Number of Query features 753\n",
      "Percent Matches: 47.39811912225705\n",
      "Checking the Bloom time: 0.008912999999999727\n"
     ]
    }
   ],
   "source": [
    "print(\"Feature Extraction Time:\", t1-t0)\n",
    "print(\"LSH to Bloom time:\", t2-t1)\n",
    "print(\"Matches:\", count)\n",
    "print(\"Number of Training features\", len(T_des) )\n",
    "print(\"Number of Query features\", len(Q_des))\n",
    "print(\"Percent Matches:\", count*100/len(T_des) )\n",
    "print(\"Checking the Bloom time:\", t4-t3)"
   ]
  },
  {
   "cell_type": "code",
   "execution_count": null,
   "metadata": {
    "collapsed": true
   },
   "outputs": [],
   "source": []
  },
  {
   "cell_type": "code",
   "execution_count": null,
   "metadata": {
    "collapsed": true
   },
   "outputs": [],
   "source": []
  }
 ],
 "metadata": {
  "kernelspec": {
   "display_name": "Python [conda env:tutorials]",
   "language": "python",
   "name": "conda-env-tutorials-py"
  },
  "language_info": {
   "codemirror_mode": {
    "name": "ipython",
    "version": 3
   },
   "file_extension": ".py",
   "mimetype": "text/x-python",
   "name": "python",
   "nbconvert_exporter": "python",
   "pygments_lexer": "ipython3",
   "version": "3.6.3"
  }
 },
 "nbformat": 4,
 "nbformat_minor": 2
}
