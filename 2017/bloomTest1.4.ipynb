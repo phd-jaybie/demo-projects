{
 "cells": [
  {
   "cell_type": "code",
   "execution_count": 1,
   "metadata": {
    "collapsed": true,
    "nbpresent": {
     "id": "1ada4770-1f6a-4573-9fe5-b7155c2ac6a6"
    }
   },
   "outputs": [],
   "source": [
    "# A simple bloom filter implementation for validating its viability\n",
    "# for object detection (potentially for privacy-preserving AR).\n",
    "\n",
    "# Date 21-Nov-2017: This version now follows the strategy used by Jain's\n",
    "# which utilizes multiple LSH hash sets and dedicated Bloom filters for\n",
    "# each. This hopefully reduces the false positives.\n",
    "\n",
    "from pybloomfilter import BloomFilter\n",
    "import numpy as np\n",
    "import cv2\n",
    "import time\n",
    "import sys"
   ]
  },
  {
   "cell_type": "code",
   "execution_count": 2,
   "metadata": {
    "collapsed": true,
    "nbpresent": {
     "id": "fb385ea2-2333-4260-8acc-d2e003ad3ebb"
    }
   },
   "outputs": [],
   "source": [
    "detector = cv2.xfeatures2d.SIFT_create()\n",
    "\n",
    "train_img = cv2.imread('train.jpg',0)\n",
    "query_img = cv2.imread('raw.png',0)\n",
    "\n",
    "LSH_dim = 16\n",
    "L_buckets = 3"
   ]
  },
  {
   "cell_type": "code",
   "execution_count": 3,
   "metadata": {
    "collapsed": true
   },
   "outputs": [],
   "source": [
    "T_kp, T_des = detector.detectAndCompute(train_img, None)\n",
    "\n",
    "_, dim = T_des.shape"
   ]
  },
  {
   "cell_type": "code",
   "execution_count": 4,
   "metadata": {
    "collapsed": true,
    "nbpresent": {
     "id": "7dcb00b3-bd53-4c3a-ab3c-8e5f988c4d6c"
    }
   },
   "outputs": [],
   "source": [
    "LSH_random_vectors_set = []\n",
    "#powers_of_two = 1 << np.arange(LSH_dim-1, -1, -1)\n",
    "\n",
    "# creating the multiple LSH random vectors\n",
    "for i in range(L_buckets):\n",
    "    np.random.seed(i)\n",
    "    LSH_random_vectors_set.append(np.random.randn(dim, LSH_dim))\n",
    "\n",
    "# creating the multiple Bloom Filters\n",
    "BF_set = []\n",
    "for i in range(L_buckets):\n",
    "    BF_set.append(BloomFilter(2**(2*LSH_dim),0.01,None))"
   ]
  },
  {
   "cell_type": "code",
   "execution_count": 5,
   "metadata": {
    "collapsed": true
   },
   "outputs": [],
   "source": [
    "t0 = time.process_time()\n",
    "\n",
    "Q_kp, Q_des = detector.detectAndCompute(query_img, None)\n",
    "\n",
    "t1 = time.process_time()\n",
    "\n",
    "# We now add each LSH hash result to their dedicated Bloom Filter\n",
    "for i in range(L_buckets):\n",
    "    Q_reflections = Q_des.dot(LSH_random_vectors_set[i]) >= 0\n",
    "    \n",
    "    for q in np.array(Q_reflections, dtype=int):\n",
    "        BF_set[i].add(q.tostring(None))\n",
    "    \n",
    "    \n",
    "t2 = time.process_time()"
   ]
  },
  {
   "cell_type": "code",
   "execution_count": 6,
   "metadata": {
    "nbpresent": {
     "id": "329f0997-26cd-43d9-861d-f4e6fcbc135c"
    },
    "scrolled": true
   },
   "outputs": [
    {
     "data": {
      "text/plain": [
       "<BloomFilter capacity: 4294967296, error: 0.010, num_hashes: 6>"
      ]
     },
     "execution_count": 6,
     "metadata": {},
     "output_type": "execute_result"
    }
   ],
   "source": [
    "#print(bf)\n",
    "BF_set[0]"
   ]
  },
  {
   "cell_type": "code",
   "execution_count": 7,
   "metadata": {
    "collapsed": true
   },
   "outputs": [],
   "source": [
    "t3 = time.process_time()\n",
    "\n",
    "count = 0\n",
    "\n",
    "for n in T_des:\n",
    "    inBucket = True\n",
    "    \n",
    "    for i in range(len(BF_set)):\n",
    "        T_reflections = n.dot(LSH_random_vectors_set[i]) >= 0\n",
    "        r = np.array(T_reflections, dtype=int).tostring(None)\n",
    "        inBucket = inBucket and (r in BF_set[i])\n",
    "        \n",
    "    count = count + inBucket\n",
    "\n",
    "t4 = time.process_time()"
   ]
  },
  {
   "cell_type": "code",
   "execution_count": 8,
   "metadata": {
    "nbpresent": {
     "id": "d09e3ee4-fe7a-4c12-b5a1-9ce7885161f3"
    },
    "scrolled": true
   },
   "outputs": [
    {
     "name": "stdout",
     "output_type": "stream",
     "text": [
      "Feature Extraction Time: 0.336006\n",
      "LSH to Bloom time: 0.0663720000000001\n",
      "Matches: 716\n",
      "Number of Training features 3190\n",
      "Number of Query features 1475\n",
      "Percent Matches: 22.44514106583072\n",
      "Checking the Bloom time: 0.05305900000000019\n"
     ]
    }
   ],
   "source": [
    "print(\"Feature Extraction Time:\", t1-t0)\n",
    "print(\"LSH to Bloom time:\", t2-t1)\n",
    "print(\"Matches:\", count)\n",
    "print(\"Number of Training features\", len(T_des) )\n",
    "print(\"Number of Query features\", len(Q_des))\n",
    "print(\"Percent Matches:\", count*100/len(T_des) )\n",
    "print(\"Checking the Bloom time:\", t4-t3)\n",
    "#print(\"Size of Query Image:\",sys.getsizeof(query_img), \"and size of Bloom:\", sys.getsizeof(bf.to_base64()))"
   ]
  },
  {
   "cell_type": "code",
   "execution_count": 9,
   "metadata": {},
   "outputs": [],
   "source": [
    "# resetting the bloom\n",
    "BF_set = []\n",
    "for i in range(L_buckets):\n",
    "    BF_set.append(BloomFilter(2**(2*LSH_dim),0.01,None))\n",
    "\n",
    "# testing it with a different query image\n",
    "test_img = cv2.imread('img_fjords.jpg',0)\n",
    "\n",
    "t0 = time.process_time()\n",
    "\n",
    "Q_kp, Q_des = detector.detectAndCompute(test_img, None)\n",
    "\n",
    "t1 = time.process_time()\n",
    "\n",
    "# We now add each LSH hash result to their dedicated Bloom Filter\n",
    "for i in range(L_buckets):\n",
    "    Q_reflections = Q_des.dot(LSH_random_vectors_set[i]) >= 0\n",
    "    \n",
    "    for q in np.array(Q_reflections, dtype=int):\n",
    "        BF_set[i].add(q.tostring(None))\n",
    "    \n",
    "    \n",
    "t2 = time.process_time()"
   ]
  },
  {
   "cell_type": "code",
   "execution_count": 10,
   "metadata": {
    "collapsed": true
   },
   "outputs": [],
   "source": [
    "t3 = time.process_time()\n",
    "\n",
    "count = 0\n",
    "\n",
    "for n in T_des:\n",
    "    inBucket = True\n",
    "    \n",
    "    for i in range(len(BF_set)):\n",
    "        T_reflections = n.dot(LSH_random_vectors_set[i]) >= 0\n",
    "        r = np.array(T_reflections, dtype=int).tostring(None)\n",
    "        inBucket = inBucket and (r in BF_set[i])\n",
    "        \n",
    "    count = count + inBucket\n",
    "\n",
    "t4 = time.process_time()"
   ]
  },
  {
   "cell_type": "code",
   "execution_count": 11,
   "metadata": {
    "scrolled": true
   },
   "outputs": [
    {
     "name": "stdout",
     "output_type": "stream",
     "text": [
      "Feature Extraction Time: 0.11945999999999968\n",
      "LSH to Bloom time: 0.03216999999999981\n",
      "Matches: 267\n",
      "Number of Training features 3190\n",
      "Number of Query features 753\n",
      "Percent Matches: 8.369905956112852\n",
      "Checking the Bloom time: 0.05223100000000036\n"
     ]
    }
   ],
   "source": [
    "print(\"Feature Extraction Time:\", t1-t0)\n",
    "print(\"LSH to Bloom time:\", t2-t1)\n",
    "print(\"Matches:\", count)\n",
    "print(\"Number of Training features\", len(T_des) )\n",
    "print(\"Number of Query features\", len(Q_des))\n",
    "print(\"Percent Matches:\", count*100/len(T_des) )\n",
    "print(\"Checking the Bloom time:\", t4-t3)\n",
    "#print(\"Size of Query Image:\",sys.getsizeof(query_img), \"and size of Bloom:\", sys.getsizeof(bf.to_base64()))"
   ]
  },
  {
   "cell_type": "code",
   "execution_count": null,
   "metadata": {
    "collapsed": true
   },
   "outputs": [],
   "source": []
  }
 ],
 "metadata": {
  "kernelspec": {
   "display_name": "Python [conda env:tutorials]",
   "language": "python",
   "name": "conda-env-tutorials-py"
  },
  "language_info": {
   "codemirror_mode": {
    "name": "ipython",
    "version": 3
   },
   "file_extension": ".py",
   "mimetype": "text/x-python",
   "name": "python",
   "nbconvert_exporter": "python",
   "pygments_lexer": "ipython3",
   "version": "3.6.3"
  }
 },
 "nbformat": 4,
 "nbformat_minor": 2
}
