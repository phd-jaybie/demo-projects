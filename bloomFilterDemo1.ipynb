{
 "cells": [
  {
   "cell_type": "code",
   "execution_count": 1,
   "metadata": {},
   "outputs": [],
   "source": [
    "from bitarray import bitarray\n",
    "import mmh3"
   ]
  },
  {
   "cell_type": "code",
   "execution_count": 2,
   "metadata": {
    "collapsed": true
   },
   "outputs": [],
   "source": [
    "bf_size = 10 # Bloom filter size"
   ]
  },
  {
   "cell_type": "code",
   "execution_count": 3,
   "metadata": {},
   "outputs": [],
   "source": [
    "bit_array = bitarray(bf_size)\n",
    "bit_array.setall(0) # Initialize all bits to 0."
   ]
  },
  {
   "cell_type": "code",
   "execution_count": 11,
   "metadata": {},
   "outputs": [
    {
     "data": {
      "text/plain": [
       "bitarray('0000000101')"
      ]
     },
     "execution_count": 11,
     "metadata": {},
     "output_type": "execute_result"
    }
   ],
   "source": [
    "## Inserting \"hello\" to our bloom filter.\n",
    "\n",
    "b1 = mmh3.hash(\"hello\", 41) % 10 # Hash our input using mmh3 then get modulo of the bf_size. Equals 7\n",
    "bit_array[b1] = 1 # Set the bit position correponsing to the result of the hash-module operation above.\n",
    "b2 = mmh3.hash(\"hello\", 42) % 10 # Do it second time to have 2 bits set per insertion.\n",
    "bit_array[b2] = 1 # Do it for the second bit set.\n",
    "\n",
    "bit_array"
   ]
  },
  {
   "cell_type": "code",
   "execution_count": 8,
   "metadata": {},
   "outputs": [
    {
     "name": "stdout",
     "output_type": "stream",
     "text": [
      "Probably in set\n"
     ]
    }
   ],
   "source": [
    "## Checking if \"hello\" is in our set.\n",
    "\n",
    "b1 = mmh3.hash(\"hello\", 41) % 10 # Do the same hash-modulo operation\n",
    "b2 = mmh3.hash(\"hello\", 42) % 10 \n",
    "if bit_array[b1] == 1 and bit_array[b2] == 1: # Check if the resulting bit positions are set.\n",
    "    print(\"Probably in set\")\n",
    "else:\n",
    "    print(\"Definitely not in set\")"
   ]
  },
  {
   "cell_type": "code",
   "execution_count": null,
   "metadata": {
    "collapsed": true
   },
   "outputs": [],
   "source": []
  }
 ],
 "metadata": {
  "kernelspec": {
   "display_name": "Python 3",
   "language": "python",
   "name": "python3"
  },
  "language_info": {
   "codemirror_mode": {
    "name": "ipython",
    "version": 3
   },
   "file_extension": ".py",
   "mimetype": "text/x-python",
   "name": "python",
   "nbconvert_exporter": "python",
   "pygments_lexer": "ipython3",
   "version": "3.6.3"
  }
 },
 "nbformat": 4,
 "nbformat_minor": 2
}
