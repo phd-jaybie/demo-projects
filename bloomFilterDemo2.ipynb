{
 "cells": [
  {
   "cell_type": "code",
   "execution_count": 1,
   "metadata": {},
   "outputs": [],
   "source": [
    "from bitarray import bitarray\n",
    "import mmh3"
   ]
  },
  {
   "cell_type": "code",
   "execution_count": 4,
   "metadata": {},
   "outputs": [],
   "source": [
    "class BloomFilter:\n",
    "    \n",
    "    def __init__(self, size, hash_count):\n",
    "        self.size = size\n",
    "        self.hash_count = hash_count\n",
    "        self.bit_array = bitarray(size)\n",
    "        self.bit_array.setall(0)\n",
    "        \n",
    "    def add(self, string):\n",
    "        for seed in range(self.hash_count):\n",
    "            result = mmh3.hash(string, seed) % self.size\n",
    "            self.bit_array[result] = 1\n",
    "        \n",
    "    def lookup(self, string):\n",
    "        for seed in range(self.hash_count):\n",
    "            result = mmh3.hash(string, seed) % self.size\n",
    "            if self.bit_array[result] == 0:\n",
    "                return \"Nope\"\n",
    "\n",
    "        return \"Probably\""
   ]
  },
  {
   "cell_type": "code",
   "execution_count": 5,
   "metadata": {},
   "outputs": [],
   "source": [
    "## We import the Unix standard words file.\n",
    "\n",
    "bf = BloomFilter(2600000, 7)\n",
    "lines = open(\"/usr/share/dict/words\").read().splitlines()\n",
    "for line in lines:\n",
    "    bf.add(line)"
   ]
  },
  {
   "cell_type": "code",
   "execution_count": 9,
   "metadata": {},
   "outputs": [
    {
     "name": "stdout",
     "output_type": "stream",
     "text": [
      "Probably\n"
     ]
    }
   ],
   "source": [
    "print(bf.lookup(\"Max\"))"
   ]
  },
  {
   "cell_type": "code",
   "execution_count": null,
   "metadata": {
    "collapsed": true
   },
   "outputs": [],
   "source": [
    "## Code for time comparison with simple iteration.\n",
    "import time\n",
    "\n",
    "huge = []\n",
    "lines = open(\"/usr/share/dict/words\").read().splitlines()\n",
    "for line in lines:\n",
    "    huge.append(line)"
   ]
  },
  {
   "cell_type": "code",
   "execution_count": 19,
   "metadata": {},
   "outputs": [
    {
     "name": "stdout",
     "output_type": "stream",
     "text": [
      "Bloom filter: 5.400000000044258e-05\n",
      "Iteration: 0.011262000000000327\n"
     ]
    }
   ],
   "source": [
    "start = time.process_time()\n",
    "bf.lookup(\"google\")\n",
    "finish = time.process_time()\n",
    "print(\"Bloom filter: \"+str(finish-start))\n",
    "\n",
    "start = time.process_time()\n",
    "for word in huge:\n",
    "    if word == \"google\":\n",
    "        break\n",
    "finish = time.process_time()\n",
    "print(\"Iteration: \"+str(finish-start))"
   ]
  },
  {
   "cell_type": "code",
   "execution_count": 20,
   "metadata": {},
   "outputs": [
    {
     "name": "stdout",
     "output_type": "stream",
     "text": [
      "Bloom filter: 7.100000000015427e-05\n",
      "Iteration: 0.0008490000000000997\n"
     ]
    }
   ],
   "source": [
    "start = time.process_time()\n",
    "bf.lookup(\"apple\")\n",
    "finish = time.process_time()\n",
    "print(\"Bloom filter: \"+str(finish-start))\n",
    "\n",
    "start = time.process_time()\n",
    "for word in huge:\n",
    "    if word == \"apple\":\n",
    "        break\n",
    "finish = time.process_time()\n",
    "print(\"Iteration: \"+str(finish-start))"
   ]
  },
  {
   "cell_type": "code",
   "execution_count": null,
   "metadata": {
    "collapsed": true
   },
   "outputs": [],
   "source": []
  }
 ],
 "metadata": {
  "kernelspec": {
   "display_name": "Python 3",
   "language": "python",
   "name": "python3"
  },
  "language_info": {
   "codemirror_mode": {
    "name": "ipython",
    "version": 3
   },
   "file_extension": ".py",
   "mimetype": "text/x-python",
   "name": "python",
   "nbconvert_exporter": "python",
   "pygments_lexer": "ipython3",
   "version": "3.6.3"
  }
 },
 "nbformat": 4,
 "nbformat_minor": 2
}
